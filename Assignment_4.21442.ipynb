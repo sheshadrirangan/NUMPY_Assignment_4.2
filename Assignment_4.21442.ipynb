{
 "cells": [
  {
   "cell_type": "markdown",
   "metadata": {},
   "source": [
    "## Assignment_4.21442"
   ]
  },
  {
   "cell_type": "markdown",
   "metadata": {},
   "source": [
    "Given a sequence of n values x1, x2, ..., xn and a window size k>0, the k-th moving                  average of the given sequence is defined as follows: "
   ]
  },
  {
   "cell_type": "markdown",
   "metadata": {},
   "source": [
    "The moving average sequence has n-k+1 elements as shown below. \n",
    " \n",
    "The moving averages with k=4 of a ten-value sequence (n=10) is shown below "
   ]
  },
  {
   "cell_type": "markdown",
   "metadata": {},
   "source": [
    "i     1   2   3   4   5   6   7   8   9 10 \n",
    "  \n",
    "=====  ==  ==  ==  ==  ==  ==  ==  ==  ==  == \n",
    "\n",
    "Input  10  20  30  40  50  60  70  80  90 100 \n",
    "  \n",
    "y1     25 = (10+20+30+40)/4 \n",
    "\n",
    "y2         35 = (20+30+40+50)/4 \n",
    "\n",
    "y3             45 = (30+40+50+60)/4 \n",
    "\n",
    "y4                 55 = (40+50+60+70)/4 \n",
    "\n",
    "y5                     65 = (50+60+70+80)/4 \n",
    "\n",
    "y6                         75 = (60+70+80+90)/4 \n",
    "\n",
    "y7                             85 = (70+80+90+100)/4  "
   ]
  },
  {
   "cell_type": "code",
   "execution_count": 1,
   "metadata": {},
   "outputs": [],
   "source": [
    "def MovingAvg(mylist, win_size):\n",
    "    avg = []\n",
    "    num = len(mylist)\n",
    "    r = num - win_size + 1\n",
    "    for i in range(r):\n",
    "        sum = 0\n",
    "        for j in mylist[i:(i+win_size)]:\n",
    "            sum += j\n",
    "        avg.append(sum/win_size)\n",
    "    return avg"
   ]
  },
  {
   "cell_type": "code",
   "execution_count": 2,
   "metadata": {
    "scrolled": true
   },
   "outputs": [
    {
     "name": "stdout",
     "output_type": "stream",
     "text": [
      "Y[1] = 25.000000\n",
      "Y[2] = 35.000000\n",
      "Y[3] = 45.000000\n",
      "Y[4] = 55.000000\n",
      "Y[5] = 65.000000\n",
      "Y[6] = 75.000000\n",
      "Y[7] = 85.000000\n"
     ]
    }
   ],
   "source": [
    "mylist = [10,20,30,40,50,60,70,80,90,100]\n",
    "avg = MovingAvg(mylist, 4)\n",
    "for i in range(len(avg)):\n",
    "    print('Y[%d] = %f' %(i+1, avg[i]))"
   ]
  },
  {
   "cell_type": "code",
   "execution_count": 3,
   "metadata": {},
   "outputs": [
    {
     "name": "stdout",
     "output_type": "stream",
     "text": [
      "Y[1] = 5.000000\n",
      "Y[2] = 4.666667\n",
      "Y[3] = 5.666667\n",
      "Y[4] = 6.666667\n",
      "Y[5] = 9.666667\n",
      "Y[6] = 28.666667\n",
      "Y[7] = 49.333333\n",
      "Y[8] = 72.666667\n",
      "Y[9] = 84.000000\n",
      "Y[10] = 93.333333\n",
      "Y[11] = 116.333333\n"
     ]
    }
   ],
   "source": [
    "a = [3, 5, 7, 2, 8, 10, 11, 65, 72, 81, 99, 100, 150]\n",
    "avg = MovingAvg(a,3)\n",
    "for i in range(len(avg)):\n",
    "    print('Y[%d] = %f' %(i+1, avg[i]))"
   ]
  },
  {
   "cell_type": "code",
   "execution_count": null,
   "metadata": {},
   "outputs": [],
   "source": []
  }
 ],
 "metadata": {
  "kernelspec": {
   "display_name": "Python 3",
   "language": "python",
   "name": "python3"
  },
  "language_info": {
   "codemirror_mode": {
    "name": "ipython",
    "version": 3
   },
   "file_extension": ".py",
   "mimetype": "text/x-python",
   "name": "python",
   "nbconvert_exporter": "python",
   "pygments_lexer": "ipython3",
   "version": "3.7.0"
  }
 },
 "nbformat": 4,
 "nbformat_minor": 2
}
